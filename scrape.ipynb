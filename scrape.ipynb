{
 "cells": [
  {
   "cell_type": "code",
   "execution_count": 1,
   "metadata": {},
   "outputs": [],
   "source": [
    "import requests\n",
    "import pandas as pd\n",
    "from utils.helper import Proxies"
   ]
  },
  {
   "cell_type": "code",
   "execution_count": null,
   "metadata": {},
   "outputs": [],
   "source": [
    "proxies = Proxies(annoymous=False, from_env=True)\n",
    "useragent = proxies.get_proxy_useragent()\n",
    "proxy_ip = proxies.get_proxy_ip()\n",
    "\n",
    "proxy = {\n",
    "    \"http\": proxy_ip,\n",
    "    \"https\": proxy_ip\n",
    "}\n",
    "headers = {\"Connection\" : \"close\",  \"User-Agent\" : useragent}  \n",
    "print(\"User Agent:\", useragent)\n",
    "print(\"Proxy ip:\", proxy_ip)"
   ]
  },
  {
   "cell_type": "markdown",
   "metadata": {},
   "source": [
    "# Google news\n",
    "1. Google News Tab - require use of selenium *(A section within Google Search that displays news articles related to your search query, providing a wider range of news sources on a topic.)*\n",
    "    - https://www.google.com/search?q=Singapore&tbs=cdr:1,cd_min:1/1/2025,cd_max:2/2/2025&tbm=nws'\n",
    "    - **q=Singapore** : query\n",
    "    - **tbs=cdr:1** : search for results within a custom date range\n",
    "    - **cd_min:1/1/2025,cd_max:2/2/2025** : date range\n",
    "    - **tbm=nws** : get results from Google news\n",
    "2. News RSS page: can return only up to 100 results. More details [here](https://www.newscatcherapi.com/blog/google-news-rss-search-parameters-the-missing-documentaiton#toc-8)\n",
    "    - https://news.google.com/rss/search?q=Singapore+after:2020-06-01+before:2020-06-02&hl=en-SG&gl=SG&ceid=SG:en\n",
    "    - **q=Singapore** : query\n",
    "    - **after:2020-06-01+before:2020-06-02** : search for results within a custom date range\n",
    "    - **hl=en-SG&gl=SG&ceid=SG:en** : country, location and geolocation parameters. *(automatically append based on your location)*\n",
    "    - Can choose to leave out **/rss/** to get the google page instead of xml\n"
   ]
  },
  {
   "cell_type": "code",
   "execution_count": 24,
   "metadata": {},
   "outputs": [
    {
     "name": "stdout",
     "output_type": "stream",
     "text": [
      "-------------------- XML prettify (First item) --------------------\n",
      "<item>\n",
      " <title>\n",
      "  Singapore ends Covid-19 circuit breaker: How does it affect you from June 2 - The Straits Times\n",
      " </title>\n",
      " <link>\n",
      "  https://news.google.com/rss/articles/CBMiswFBVV95cUxPbE5PRGQwTFo4QjF1WmJKNmlhcURJUy1pY0lzbUZUZmZKWEpmbzJPOF9SdU9Wd082VVIwaFN1S0NpNWM5QUhXUWZnd0MwRkRvcW01eEl2Mm5wUjhRYVBkM3pnNkRKaVRPMlZXZm5ndUs2Q3ZBLTdyUmp2Wnh2MU1IU3NDWjcya1lfU0xpWDN2cWpESHJzTXVMVEFrUFJvYTk1QkhKLUFycmdaQnlNQ2xBUVhNUQ?oc=5\n",
      " </link>\n",
      " <guid isPermaLink=\"false\">\n",
      "  CBMiswFBVV95cUxPbE5PRGQwTFo4QjF1WmJKNmlhcURJUy1pY0lzbUZUZmZKWEpmbzJPOF9SdU9Wd082VVIwaFN1S0NpNWM5QUhXUWZnd0MwRkRvcW01eEl2Mm5wUjhRYVBkM3pnNkRKaVRPMlZXZm5ndUs2Q3ZBLTdyUmp2Wnh2MU1IU3NDWjcya1lfU0xpWDN2cWpESHJzTXVMVEFrUFJvYTk1QkhKLUFycmdaQnlNQ2xBUVhNUQ\n",
      " </guid>\n",
      " <pubDate>\n",
      "  Mon, 01 Jun 2020 07:00:00 GMT\n",
      " </pubDate>\n",
      " <description>\n",
      "  &lt;a href=\"https://news.google.com/rss/articles/CBMiswFBVV95cUxPbE5PRGQwTFo4QjF1WmJKNmlhcURJUy1pY0lzbUZUZmZKWEpmbzJPOF9SdU9Wd082VVIwaFN1S0NpNWM5QUhXUWZnd0MwRkRvcW01eEl2Mm5wUjhRYVBkM3pnNkRKaVRPMlZXZm5ndUs2Q3ZBLTdyUmp2Wnh2MU1IU3NDWjcya1lfU0xpWDN2cWpESHJzTXVMVEFrUFJvYTk1QkhKLUFycmdaQnlNQ2xBUVhNUQ?oc=5\" target=\"_blank\"&gt;Singapore ends Covid-19 circuit breaker: How does it affect you from June 2&lt;/a&gt;&amp;nbsp;&amp;nbsp;&lt;font color=\"#6f6f6f\"&gt;The Straits Times&lt;/font&gt;\n",
      " </description>\n",
      " <source url=\"https://www.straitstimes.com\">\n",
      "  The Straits Times\n",
      " </source>\n",
      "</item>\n",
      "\n",
      "-------------------- PARSE --------------------\n",
      "Number of items:  66\n",
      "{\n",
      "    \"title\": \"Singapore ends Covid-19 circuit breaker: How does it affect you from June 2 - The Straits Times\",\n",
      "    \"link\": \"https://news.google.com/rss/articles/CBMiswFBVV95cUxPbE5PRGQwTFo4QjF1WmJKNmlhcURJUy1pY0lzbUZUZmZKWEpmbzJPOF9SdU9Wd082VVIwaFN1S0NpNWM5QUhXUWZnd0MwRkRvcW01eEl2Mm5wUjhRYVBkM3pnNkRKaVRPMlZXZm5ndUs2Q3ZBLTdyUmp2Wnh2MU1IU3NDWjcya1lfU0xpWDN2cWpESHJzTXVMVEFrUFJvYTk1QkhKLUFycmdaQnlNQ2xBUVhNUQ?oc=5\",\n",
      "    \"pubDate\": \"Mon, 01 Jun 2020 07:00:00 GMT\",\n",
      "    \"source\": \"The Straits Times\",\n",
      "    \"description\": \"<a href=\\\"https://news.google.com/rss/articles/CBMiswFBVV95cUxPbE5PRGQwTFo4QjF1WmJKNmlhcURJUy1pY0lzbUZUZmZKWEpmbzJPOF9SdU9Wd082VVIwaFN1S0NpNWM5QUhXUWZnd0MwRkRvcW01eEl2Mm5wUjhRYVBkM3pnNkRKaVRPMlZXZm5ndUs2Q3ZBLTdyUmp2Wnh2MU1IU3NDWjcya1lfU0xpWDN2cWpESHJzTXVMVEFrUFJvYTk1QkhKLUFycmdaQnlNQ2xBUVhNUQ?oc=5\\\" target=\\\"_blank\\\">Singapore ends Covid-19 circuit breaker: How does it affect you from June 2</a>&nbsp;&nbsp;<font color=\\\"#6f6f6f\\\">The Straits Times</font>\"\n",
      "}\n"
     ]
    }
   ],
   "source": [
    "import requests\n",
    "import json\n",
    "import bs4 as bs\n",
    "url = \"https://news.google.com/rss/search?q=Singapore+after:2020-06-01+before:2020-06-02&hl=en-SG&gl=SG&ceid=SG:en\"\n",
    "\n",
    "response = requests.get(url,proxies=proxy)  #, verify=False\n",
    "\n",
    "soup = bs.BeautifulSoup(response.text,'xml')\n",
    "first_item = soup.find_all('item')[0]\n",
    "print(\"-------------------- XML prettify (First item) --------------------\")\n",
    "print(first_item.prettify())\n",
    "\n",
    "print(\"-------------------- PARSE --------------------\")\n",
    "print(\"Number of items: \",len(soup.find_all('item')))\n",
    "print(json.dumps({\n",
    "    \"title\": first_item.title.text,\n",
    "    \"link\": first_item.link.text,\n",
    "    \"pubDate\": first_item.pubDate.text,\n",
    "    \"source\": first_item.source.text,\n",
    "    \"description\": first_item.description.text,\n",
    "}, indent=4))\n"
   ]
  },
  {
   "cell_type": "code",
   "execution_count": null,
   "metadata": {},
   "outputs": [],
   "source": []
  }
 ],
 "metadata": {
  "kernelspec": {
   "display_name": ".venv",
   "language": "python",
   "name": "python3"
  },
  "language_info": {
   "codemirror_mode": {
    "name": "ipython",
    "version": 3
   },
   "file_extension": ".py",
   "mimetype": "text/x-python",
   "name": "python",
   "nbconvert_exporter": "python",
   "pygments_lexer": "ipython3",
   "version": "3.10.15"
  }
 },
 "nbformat": 4,
 "nbformat_minor": 2
}
